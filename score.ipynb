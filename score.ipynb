{
 "cells": [
  {
   "cell_type": "code",
   "execution_count": 11,
   "id": "b020b8f7-3d8b-4417-8477-1e5a7c3a15ef",
   "metadata": {},
   "outputs": [
    {
     "name": "stdout",
     "output_type": "stream",
     "text": [
      "Mean Absolute Error is: 0.6666666666666679\n",
      "Mean Squared Error is: 0.6285714285714313\n",
      "Root Mean Squared Error is: 0.7928249671720936\n"
     ]
    },
    {
     "name": "stdin",
     "output_type": "stream",
     "text": [
      "Enter a hours: 7\n"
     ]
    },
    {
     "name": "stdout",
     "output_type": "stream",
     "text": [
      "Prediction for 7.0 is score: [[86.4]]\n"
     ]
    },
    {
     "name": "stderr",
     "output_type": "stream",
     "text": [
      "C:\\Users\\hritik\\anaconda3\\Lib\\site-packages\\sklearn\\base.py:493: UserWarning: X does not have valid feature names, but LinearRegression was fitted with feature names\n",
      "  warnings.warn(\n"
     ]
    }
   ],
   "source": [
    "    import pandas as pd\n",
    "    from sklearn.linear_model import LinearRegression\n",
    "    from sklearn.metrics import mean_absolute_error, mean_squared_error\n",
    "    import numpy as np\n",
    "    \n",
    "    data = pd.read_csv(\"student.csv\")\n",
    "    \n",
    "    X = data[['Hours']] #Double brackets = 2D input\n",
    "    y = data[['Score']] #Traget column\n",
    "    \n",
    "    model = LinearRegression()\n",
    "    model.fit(X, y)\n",
    "    \n",
    "    predicted_score = model.predict(X)\n",
    "    \n",
    "    #Evaluate\n",
    "    mae = mean_absolute_error(y, predicted_score)\n",
    "    mse = mean_squared_error(y, predicted_score)\n",
    "    rmse = np.sqrt(mse)\n",
    "    \n",
    "    #Shows result\n",
    "    print(\"Mean Absolute Error is:\", mae)\n",
    "    print(\"Mean Squared Error is:\", mse)\n",
    "    print(\"Root Mean Squared Error is:\", rmse)\n",
    "    \n",
    "    #Taking input from user\n",
    "    new_hour = float(input(\"Enter a hours:\"))\n",
    "    new_pred = model.predict([[new_hour]])\n",
    "    print(f\"Prediction for {new_hour} is score: {new_pred}\")"
   ]
  },
  {
   "cell_type": "code",
   "execution_count": null,
   "id": "73b985dc-dff1-401b-bb02-a8b3efc207a7",
   "metadata": {},
   "outputs": [],
   "source": []
  }
 ],
 "metadata": {
  "kernelspec": {
   "display_name": "Python 3 (ipykernel)",
   "language": "python",
   "name": "python3"
  },
  "language_info": {
   "codemirror_mode": {
    "name": "ipython",
    "version": 3
   },
   "file_extension": ".py",
   "mimetype": "text/x-python",
   "name": "python",
   "nbconvert_exporter": "python",
   "pygments_lexer": "ipython3",
   "version": "3.12.7"
  },
  "widgets": {
   "application/vnd.jupyter.widget-state+json": {
    "state": {},
    "version_major": 2,
    "version_minor": 0
   }
  }
 },
 "nbformat": 4,
 "nbformat_minor": 5
}
